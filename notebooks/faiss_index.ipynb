{
 "cells": [
  {
   "cell_type": "code",
   "execution_count": 1,
   "id": "5a8adfd1",
   "metadata": {
    "vscode": {
     "languageId": "plaintext"
    }
   },
   "outputs": [
    {
     "name": "stderr",
     "output_type": "stream",
     "text": [
      "D:\\conv_ai_financial_qa\\conv_ai_financial_qa\\.venv\\Lib\\site-packages\\tqdm\\auto.py:21: TqdmWarning: IProgress not found. Please update jupyter and ipywidgets. See https://ipywidgets.readthedocs.io/en/stable/user_install.html\n",
      "  from .autonotebook import tqdm as notebook_tqdm\n"
     ]
    }
   ],
   "source": [
    "import json\n",
    "import faiss\n",
    "import numpy as np\n",
    "from sentence_transformers import SentenceTransformer\n"
   ]
  },
  {
   "cell_type": "code",
   "execution_count": 2,
   "id": "d001e012-297f-4e12-a5ce-99c4b8bd3805",
   "metadata": {},
   "outputs": [
    {
     "name": "stdout",
     "output_type": "stream",
     "text": [
      "📄 Loaded 810 chunks\n"
     ]
    }
   ],
   "source": [
    "# -------------------------------\n",
    "# 1. Load Chunks\n",
    "# -------------------------------\n",
    "with open(\"../data/rag_chunks/chunks.json\", \"r\", encoding=\"utf-8\") as f:\n",
    "    chunks = json.load(f)\n",
    "\n",
    "print(f\"📄 Loaded {len(chunks)} chunks\")"
   ]
  },
  {
   "cell_type": "code",
   "execution_count": 3,
   "id": "eb9c0462-2305-4116-aa43-f2eefb4c073e",
   "metadata": {},
   "outputs": [],
   "source": [
    "# -------------------------------\n",
    "# 2. Load Embedding Model\n",
    "# -------------------------------\n",
    "model = SentenceTransformer(\"sentence-transformers/all-MiniLM-L6-v2\")\n",
    "embedding_dim = model.get_sentence_embedding_dimension()"
   ]
  },
  {
   "cell_type": "code",
   "execution_count": 4,
   "id": "343a0da3-5db1-4248-985f-1a823127014e",
   "metadata": {},
   "outputs": [],
   "source": [
    "# -------------------------------\n",
    "# 3. Create Embeddings\n",
    "# -------------------------------\n",
    "embeddings = [model.encode(ch[\"text\"]) for ch in chunks]\n",
    "embeddings = np.array(embeddings).astype(\"float32\")"
   ]
  },
  {
   "cell_type": "code",
   "execution_count": 5,
   "id": "67559dc6-779f-44aa-a9dd-fc43ee8a33ad",
   "metadata": {},
   "outputs": [
    {
     "name": "stdout",
     "output_type": "stream",
     "text": [
      "✅ FAISS index built with 810 vectors\n"
     ]
    }
   ],
   "source": [
    "# -------------------------------\n",
    "# 4. Build FAISS Index\n",
    "# -------------------------------\n",
    "index = faiss.IndexFlatL2(embedding_dim)   # L2 distance index\n",
    "index.add(embeddings)\n",
    "\n",
    "print(f\"✅ FAISS index built with {index.ntotal} vectors\")"
   ]
  },
  {
   "cell_type": "code",
   "execution_count": 6,
   "id": "25d2509e-3dd1-4d72-a10f-93627504d8dd",
   "metadata": {},
   "outputs": [
    {
     "name": "stdout",
     "output_type": "stream",
     "text": [
      "💾 Saved FAISS index + metadata\n"
     ]
    }
   ],
   "source": [
    "# -------------------------------\n",
    "# 5. Save Index + Metadata\n",
    "# -------------------------------\n",
    "faiss.write_index(index, \"../data/rag_chunks/faiss_index.idx\")\n",
    "\n",
    "with open(\"../data/rag_chunks/metadata.json\", \"w\", encoding=\"utf-8\") as f:\n",
    "    json.dump(chunks, f, ensure_ascii=False, indent=2)\n",
    "\n",
    "print(\"💾 Saved FAISS index + metadata\")"
   ]
  },
  {
   "cell_type": "code",
   "execution_count": 9,
   "id": "6a2c8257-3487-4095-84de-c3f603342a56",
   "metadata": {},
   "outputs": [
    {
     "name": "stdout",
     "output_type": "stream",
     "text": [
      "- Revenue from operations in Q4 FY25 was 64,479. (Source: financial_statement_fixed_2024) Revenue from operations in Q3 FY24 was 63,973. (Source: financial_statement_fixed_2024) Revenue from operations in Q4 FY24 was 61,237. (Source: financial_statement_fixed_2024) Revenue from operations in FY25 was 2,55,324. (Source: financial_statement_fixed_2024)\n",
      "- Revenue from operations in Q4 FY24 was 51,488. (Source: financial_statement_fixed_2024) Revenue from operations in FY25 was 2,14,853. (Source: financial_statement_fixed_2024) Revenue from operations in FY24 was 2,02,359. (Source: financial_statement_fixed_2024) Other income in Q4 FY25 was 1,922. (Source: financial_statement_fixed_2024)\n",
      "- March 31, December 31, March in FY25 was March. (Source: financial_statement_fixed_2024) March 31, December 31, March in FY24 was 31,. (Source: financial_statement_fixed_2024) Revenue from operations in Q4 FY25 was 54,136. (Source: financial_statement_fixed_2024) Revenue from operations in Q3 FY24 was 53,883. (Source: financial_statement_fixed_2024)\n",
      "- Revenue from operations in Q4 FY24 was 51,488. (Source: financial_statement_fixed_2023) Revenue from operations in Q3 FY23 was 50,844. (Source: financial_statement_fixed_2023) Revenue from operations in Q4 FY23 was 49,780. (Source: financial_statement_fixed_2023) Revenue from operations in FY24 was 2,02,359. (Source: financial_statement_fixed_2023)\n",
      "- March 31, December 31, March in FY25 was March. (Source: financial_statement_fixed_2024) March 31, December 31, March in FY24 was 31,. (Source: financial_statement_fixed_2024) Revenue from operations in Q4 FY25 was 54,136. (Source: financial_statement_fixed_2024) Revenue from operations in Q3 FY24 was 53,883. (Source: financial_statement_fixed_2024) Revenue from operations in Q4 FY24 was 51,488. (Source: financial_statement_fixed_2024) Revenue from operations in FY25 was 2,14,853. (Source: financial_statement_fixed_2024) Revenue from operations in FY24 was 2,02,359. (Source: financial_statement_fixed_2024) Other income in Q4 FY25 was 1,922. (Source: financial_statement_fixed_2024) Other income in Q3 FY24 was 2,118. (Source: financial_statement_fixed_2024) Other income in Q4 FY24 was 1,806. (Source: financial_statement_fixed_2024) Other income in FY25 was 9,642. (Source: financial_statement_fixed_2024) Other income in FY24 was 7,273. (Source: financial_statement_fixed_2024) TOTAL INCOME in Q4 FY25 was 56,058. (Source: financial_statement_fixed_2024) TOTAL INCOME in Q3 FY24 was 56,001. (Source: financial_statement_fixed_2024) TOTAL INCOME in Q4 FY24 was 53,294. (Source: financial_statement_fixed_2024) TOTAL INCOME in FY25 was 2,24,495. (Source: financial_statement_fixed_2024)\n"
     ]
    }
   ],
   "source": [
    "def search(query, top_k=5):\n",
    "    # Encode query\n",
    "    query_vec = model.encode([query]).astype(\"float32\")\n",
    "    \n",
    "    # Search in FAISS\n",
    "    D, I = index.search(query_vec, top_k)\n",
    "    \n",
    "    # Collect results\n",
    "    results = []\n",
    "    for idx in I[0]:\n",
    "        if idx == -1: continue\n",
    "        results.append(chunks[idx])\n",
    "    return results\n",
    "\n",
    "# 🔍 Example query\n",
    "results = search(\"What was the revenue from operations in FY25?\")\n",
    "for r in results:\n",
    "    print(\"-\", r[\"text\"])\n"
   ]
  },
  {
   "cell_type": "code",
   "execution_count": null,
   "id": "2b9d58fb-bd33-48f7-af0c-7afc7da2d5d0",
   "metadata": {},
   "outputs": [],
   "source": []
  }
 ],
 "metadata": {
  "kernelspec": {
   "display_name": "conv_ai_env",
   "language": "python",
   "name": "conv_ai_env"
  },
  "language_info": {
   "codemirror_mode": {
    "name": "ipython",
    "version": 3
   },
   "file_extension": ".py",
   "mimetype": "text/x-python",
   "name": "python",
   "nbconvert_exporter": "python",
   "pygments_lexer": "ipython3",
   "version": "3.12.5"
  }
 },
 "nbformat": 4,
 "nbformat_minor": 5
}
