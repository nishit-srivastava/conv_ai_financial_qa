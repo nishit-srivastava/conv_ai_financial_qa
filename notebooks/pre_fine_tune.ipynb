{
 "cells": [
  {
   "cell_type": "code",
   "execution_count": 4,
   "id": "77eade45",
   "metadata": {
    "vscode": {
     "languageId": "plaintext"
    }
   },
   "outputs": [],
   "source": [
    "from transformers import AutoTokenizer, AutoModelForSeq2SeqLM\n",
    "import json, time, re\n",
    "from pathlib import Path"
   ]
  },
  {
   "cell_type": "code",
   "execution_count": 5,
   "id": "40d0f07e-2de3-4e54-8817-e72510f00b3a",
   "metadata": {},
   "outputs": [
    {
     "name": "stderr",
     "output_type": "stream",
     "text": [
      "D:\\conv_ai_financial_qa\\conv_ai_financial_qa\\.venv\\Lib\\site-packages\\huggingface_hub\\file_download.py:143: UserWarning: `huggingface_hub` cache-system uses symlinks by default to efficiently store duplicated files but your machine does not support them in C:\\Users\\Admin\\.cache\\huggingface\\hub\\models--google--flan-t5-small. Caching files will still work but in a degraded version that might require more space on your disk. This warning can be disabled by setting the `HF_HUB_DISABLE_SYMLINKS_WARNING` environment variable. For more details, see https://huggingface.co/docs/huggingface_hub/how-to-cache#limitations.\n",
      "To support symlinks on Windows, you either need to activate Developer Mode or to run Python as an administrator. In order to activate developer mode, see this article: https://docs.microsoft.com/en-us/windows/apps/get-started/enable-your-device-for-development\n",
      "  warnings.warn(message)\n",
      "Xet Storage is enabled for this repo, but the 'hf_xet' package is not installed. Falling back to regular HTTP download. For better performance, install the package with: `pip install huggingface_hub[hf_xet]` or `pip install hf_xet`\n",
      "Xet Storage is enabled for this repo, but the 'hf_xet' package is not installed. Falling back to regular HTTP download. For better performance, install the package with: `pip install huggingface_hub[hf_xet]` or `pip install hf_xet`\n"
     ]
    }
   ],
   "source": [
    "MODEL_NAME = \"google/flan-t5-small\"  # lightweight accessible model\n",
    "\n",
    "tokenizer = AutoTokenizer.from_pretrained(MODEL_NAME)\n",
    "model = AutoModelForSeq2SeqLM.from_pretrained(MODEL_NAME)\n"
   ]
  },
  {
   "cell_type": "code",
   "execution_count": 6,
   "id": "1eb6a523-b1fa-4852-922f-6568226e9995",
   "metadata": {},
   "outputs": [],
   "source": [
    "def generate_answer(input_text, max_new_tokens=64):\n",
    "    inputs = tokenizer(\n",
    "        input_text, return_tensors=\"pt\", truncation=True, max_length=512\n",
    "    )\n",
    "    out = model.generate(\n",
    "        **inputs,\n",
    "        max_new_tokens=max_new_tokens,\n",
    "        do_sample=False,\n",
    "        num_beams=3,\n",
    "        length_penalty=0.6,\n",
    "        early_stopping=True,\n",
    "    )\n",
    "    return tokenizer.decode(out[0], skip_special_tokens=True).strip()"
   ]
  },
  {
   "cell_type": "code",
   "execution_count": 7,
   "id": "43b9c191-4e17-4f52-9236-3298fa92b06d",
   "metadata": {},
   "outputs": [],
   "source": [
    "def normalize_num(s: str):\n",
    "    # remove commas/spaces and keep digits, minus, dot\n",
    "    return re.sub(r\"[^\\d\\-\\.]\", \"\", s).lstrip(\"0\")"
   ]
  },
  {
   "cell_type": "code",
   "execution_count": 8,
   "id": "7d686d69-60bc-4123-a1de-84e86f5b2242",
   "metadata": {},
   "outputs": [],
   "source": [
    "# Load 10 test QAs (we saved them as JSON, not JSONL)\n",
    "test_path = Path(\"../data/qa_datasets/test_qas.json\")\n",
    "tests = json.load(open(test_path, \"r\", encoding=\"utf-8\"))\n"
   ]
  },
  {
   "cell_type": "code",
   "execution_count": 10,
   "id": "9ffd4035-3bcc-4f10-bf3f-613ecd3ae331",
   "metadata": {},
   "outputs": [
    {
     "name": "stdout",
     "output_type": "stream",
     "text": [
      "✅ Baseline accuracy on 10 test Qs: 0.00\n",
      "⚡ Avg inference time: 0.15s\n",
      "\n",
      "Sample predictions:\n",
      "{'q': 'What was the Revenue from operations in Q4 FY24?', 'pred': '$2.75 billion', 'gold': 'The Revenue from operations in Q4 FY24 was 61,237.', 'ok': False}\n",
      "{'q': 'What was the Revenue from operations in Q3 FY23?', 'pred': '$2.75 billion', 'gold': 'The Revenue from operations in Q3 FY23 was 60,583.', 'ok': False}\n",
      "{'q': 'What was the Revenue from operations in Q4 FY23?', 'pred': '$2.75 billion', 'gold': 'The Revenue from operations in Q4 FY23 was 59,162.', 'ok': False}\n"
     ]
    }
   ],
   "source": [
    "correct = 0\n",
    "timings, preds = [], []\n",
    "\n",
    "for ex in tests:\n",
    "    q = ex[\"question\"]\n",
    "    gt = ex[\"answer\"]\n",
    "\n",
    "    start = time.time()\n",
    "    pred = generate_answer(q)\n",
    "    timings.append(time.time() - start)\n",
    "\n",
    "    ok = False\n",
    "    if gt in pred:\n",
    "        ok = True\n",
    "    else:\n",
    "        n_gt = normalize_num(gt)\n",
    "        n_pred = normalize_num(pred)\n",
    "        if n_gt and n_gt in n_pred:\n",
    "            ok = True\n",
    "\n",
    "    preds.append({\"q\": q, \"pred\": pred, \"gold\": gt, \"ok\": ok})\n",
    "    correct += int(ok)\n",
    "\n",
    "acc = correct / len(tests) if tests else 0.0\n",
    "print(f\"✅ Baseline accuracy on 10 test Qs: {acc:.2f}\")\n",
    "print(f\"⚡ Avg inference time: {sum(timings)/len(timings):.2f}s\")\n",
    "print(\"\\nSample predictions:\")\n",
    "for p in preds[:3]:\n",
    "    print(p)"
   ]
  },
  {
   "cell_type": "code",
   "execution_count": null,
   "id": "0b5d76f4-fa9f-49e6-bd45-a718ba4846cc",
   "metadata": {},
   "outputs": [],
   "source": []
  }
 ],
 "metadata": {
  "kernelspec": {
   "display_name": "conv_ai_env",
   "language": "python",
   "name": "conv_ai_env"
  },
  "language_info": {
   "codemirror_mode": {
    "name": "ipython",
    "version": 3
   },
   "file_extension": ".py",
   "mimetype": "text/x-python",
   "name": "python",
   "nbconvert_exporter": "python",
   "pygments_lexer": "ipython3",
   "version": "3.12.5"
  }
 },
 "nbformat": 4,
 "nbformat_minor": 5
}
