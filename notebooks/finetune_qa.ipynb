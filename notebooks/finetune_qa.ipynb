{
 "cells": [
  {
   "cell_type": "code",
   "execution_count": 1,
   "id": "4fea2553",
   "metadata": {
    "vscode": {
     "languageId": "plaintext"
    }
   },
   "outputs": [],
   "source": [
    "import json\n",
    "import uuid\n",
    "from pathlib import Path\n",
    "from collections import defaultdict\n",
    "import random\n",
    "import re"
   ]
  },
  {
   "cell_type": "code",
   "execution_count": 18,
   "id": "b510dc10-59f6-452f-93ea-5ddcf5f90cfe",
   "metadata": {},
   "outputs": [],
   "source": [
    "DATA_DIR = Path(\"../data/processed_files\")\n",
    "OUT_DIR = Path(\"../data/fine_tune\")\n",
    "OUT_DIR.mkdir(parents=True, exist_ok=True)\n",
    "\n",
    "FILES = [\n",
    "    DATA_DIR / \"financial_statement_fixed_2024.json\",  # FY24 (year-ended Mar-31-2024)\n",
    "    DATA_DIR / \"financial_statement_fixed_2025.json\",  # FY25 (year-ended Mar-31-2025)\n",
    "]"
   ]
  },
  {
   "cell_type": "code",
   "execution_count": 41,
   "id": "7259bebb-ed1c-4817-9b2d-d875e2c3fd8e",
   "metadata": {},
   "outputs": [],
   "source": [
    "# ----------------------------\n",
    "# Load rows from JSON\n",
    "# ----------------------------\n",
    "def load_rows(file_path: Path):\n",
    "    \"\"\"Load rows (headers + table) from JSON file.\"\"\"\n",
    "    with open(file_path, \"r\", encoding=\"utf-8\") as f:\n",
    "        data = json.load(f)\n",
    "    rows = data[\"rows\"]\n",
    "    headers = rows[0]   # first row = column headers\n",
    "    return headers, rows"
   ]
  },
  {
   "cell_type": "code",
   "execution_count": 42,
   "id": "93f6f988-d575-43e4-a28a-209089e44880",
   "metadata": {},
   "outputs": [],
   "source": [
    "# ----------------------------\n",
    "# Direct Questions (KPI in year)\n",
    "# ----------------------------\n",
    "def make_direct_questions(headers, rows, source_file):\n",
    "    qas = []\n",
    "    for row in rows[1:]:\n",
    "        kpi = row[0].strip()\n",
    "        for col_name, val in zip(headers[1:], row[1:]):\n",
    "            if val.strip() and val != \"-\":\n",
    "                qas.append({\n",
    "                    \"id\": str(uuid.uuid4()),\n",
    "                    \"question\": f\"What was the {kpi} in {col_name}?\",\n",
    "                    \"answer\": f\"The {kpi} in {col_name} was {val}.\",\n",
    "                    \"meta\": {\"source\": source_file.name, \"kpi\": kpi}\n",
    "                })\n",
    "    return qas"
   ]
  },
  {
   "cell_type": "code",
   "execution_count": 43,
   "id": "32f49631-4fc3-444f-9f78-74197c9c1e6c",
   "metadata": {},
   "outputs": [],
   "source": [
    "# ----------------------------\n",
    "# Comparison Questions (between two periods)\n",
    "# ----------------------------\n",
    "def safe_float(x: str):\n",
    "    \"\"\"Convert string to float if possible, else return None.\"\"\"\n",
    "    try:\n",
    "        return float(x.replace(\",\", \"\"))\n",
    "    except:\n",
    "        return None"
   ]
  },
  {
   "cell_type": "code",
   "execution_count": 44,
   "id": "2dcb3ccd-896e-4685-945e-4d0764acf5a9",
   "metadata": {},
   "outputs": [],
   "source": [
    "def make_comparison_questions(headers, rows, source_file):\n",
    "    qas = []\n",
    "    for row in rows[1:]:\n",
    "        kpi = row[0].strip()\n",
    "        for i in range(1, len(headers)):\n",
    "            for j in range(i + 1, len(headers)):\n",
    "                va, vb = row[i], row[j]\n",
    "                pa, pb = headers[i], headers[j]\n",
    "\n",
    "                na, nb = safe_float(va), safe_float(vb)\n",
    "                if na is None or nb is None:\n",
    "                    continue  # skip invalids like \"-\"\n",
    "\n",
    "                qa_text = f\"Was '{kpi}' higher in {pa} than in {pb}?\"\n",
    "                ans = \"Yes\" if na > nb else \"No\"\n",
    "                qas.append({\n",
    "                    \"id\": str(uuid.uuid4()),\n",
    "                    \"question\": qa_text,\n",
    "                    \"answer\": ans,\n",
    "                    \"meta\": {\"source\": source_file.name, \"kpi\": kpi}\n",
    "                })\n",
    "    return qas\n"
   ]
  },
  {
   "cell_type": "code",
   "execution_count": 46,
   "id": "a6e8e0f8-5c16-4449-a0a2-4ddcddaab40f",
   "metadata": {},
   "outputs": [
    {
     "name": "stdout",
     "output_type": "stream",
     "text": [
      "✅ Total QA generated: 3752\n",
      "[\n",
      "  {\n",
      "    \"id\": \"4da623ae-3ccf-453b-a23a-dd214f7dff62\",\n",
      "    \"question\": \"What was the Revenue from operations in Q4 FY24?\",\n",
      "    \"answer\": \"The Revenue from operations in Q4 FY24 was 61,237.\",\n",
      "    \"meta\": {\n",
      "      \"source\": \"financial_statement_fixed_2024.json\",\n",
      "      \"kpi\": \"Revenue from operations\"\n",
      "    }\n",
      "  },\n",
      "  {\n",
      "    \"id\": \"944f27ff-e4ed-4365-8d45-b7fd6ae56cf1\",\n",
      "    \"question\": \"What was the Revenue from operations in Q3 FY23?\",\n",
      "    \"answer\": \"The Revenue from operations in Q3 FY23 was 60,583.\",\n",
      "    \"meta\": {\n",
      "      \"source\": \"financial_statement_fixed_2024.json\",\n",
      "      \"kpi\": \"Revenue from operations\"\n",
      "    }\n",
      "  },\n",
      "  {\n",
      "    \"id\": \"db49c9a4-5786-4afd-8ae5-e21f183a172b\",\n",
      "    \"question\": \"What was the Revenue from operations in Q4 FY23?\",\n",
      "    \"answer\": \"The Revenue from operations in Q4 FY23 was 59,162.\",\n",
      "    \"meta\": {\n",
      "      \"source\": \"financial_statement_fixed_2024.json\",\n",
      "      \"kpi\": \"Revenue from operations\"\n",
      "    }\n",
      "  },\n",
      "  {\n",
      "    \"id\": \"4413f228-5853-4efc-bbb7-e5c80ff5d94c\",\n",
      "    \"question\": \"What was the Revenue from operations in FY24?\",\n",
      "    \"answer\": \"The Revenue from operations in FY24 was 2,40,893.\",\n",
      "    \"meta\": {\n",
      "      \"source\": \"financial_statement_fixed_2024.json\",\n",
      "      \"kpi\": \"Revenue from operations\"\n",
      "    }\n",
      "  },\n",
      "  {\n",
      "    \"id\": \"8b744ef9-fbeb-407e-993c-d49ab2ef48aa\",\n",
      "    \"question\": \"What was the Revenue from operations in FY23?\",\n",
      "    \"answer\": \"The Revenue from operations in FY23 was 2,25,458.\",\n",
      "    \"meta\": {\n",
      "      \"source\": \"financial_statement_fixed_2024.json\",\n",
      "      \"kpi\": \"Revenue from operations\"\n",
      "    }\n",
      "  }\n",
      "]\n"
     ]
    }
   ],
   "source": [
    "# ----------------------------\n",
    "# Build QAs for all files\n",
    "# ----------------------------\n",
    "FILES = [\n",
    "    Path(\"../data/processed_files/financial_statement_fixed_2024.json\"),\n",
    "    Path(\"../data/processed_files/financial_statement_fixed_2025.json\")\n",
    "]\n",
    "\n",
    "all_qas = []\n",
    "for fp in FILES:\n",
    "    if not fp.exists():\n",
    "        print(\"❌ Missing:\", fp)\n",
    "        continue\n",
    "    headers, rows = load_rows(fp)\n",
    "    direct = make_direct_questions(headers, rows, fp)\n",
    "    comp   = make_comparison_questions(headers, rows, fp)\n",
    "    all_qas.extend(direct)\n",
    "    all_qas.extend(comp)\n",
    "\n",
    "print(f\"✅ Total QA generated: {len(all_qas)}\")\n",
    "print(json.dumps(all_qas[:5], indent=2))  # preview"
   ]
  },
  {
   "cell_type": "code",
   "execution_count": 48,
   "id": "226627e0-061a-48c8-a335-3f95e86ab832",
   "metadata": {},
   "outputs": [
    {
     "name": "stdout",
     "output_type": "stream",
     "text": [
      "✅ Saved:\n",
      "  RAG QAs (rich): ..\\data\\qa_datasets\\rag_qas.json\n",
      "  T5 Fine-tune set: ..\\data\\qa_datasets\\t5_finetune.jsonl\n",
      "  Test (10): ..\\data\\qa_datasets\\test_qas.json\n"
     ]
    }
   ],
   "source": [
    "# ----------------------------\n",
    "# Save outputs\n",
    "# ----------------------------\n",
    "out_dir = Path(\"../data/qa_datasets\")\n",
    "out_dir.mkdir(parents=True, exist_ok=True)\n",
    "\n",
    "rag_path  = out_dir / \"rag_qas.json\"\n",
    "ft_path   = out_dir / \"t5_finetune.jsonl\"\n",
    "test_path = out_dir / \"test_qas.json\"\n",
    "\n",
    "# Save RAG style JSON\n",
    "with open(rag_path, \"w\", encoding=\"utf-8\") as f:\n",
    "    json.dump(all_qas, f, ensure_ascii=False, indent=2)\n",
    "\n",
    "# Save fine-tune JSONL\n",
    "with open(ft_path, \"w\", encoding=\"utf-8\") as f:\n",
    "    for qa in all_qas:\n",
    "        f.write(json.dumps({\n",
    "            \"input\": qa[\"question\"],\n",
    "            \"output\": qa[\"answer\"]\n",
    "        }) + \"\\n\")\n",
    "\n",
    "# Save test subset\n",
    "with open(test_path, \"w\", encoding=\"utf-8\") as f:\n",
    "    json.dump(all_qas[:10], f, ensure_ascii=False, indent=2)\n",
    "\n",
    "print(\"✅ Saved:\")\n",
    "print(\"  RAG QAs (rich):\", rag_path)\n",
    "print(\"  T5 Fine-tune set:\", ft_path)\n",
    "print(\"  Test (10):\", test_path)"
   ]
  },
  {
   "cell_type": "code",
   "execution_count": null,
   "id": "6cf8eac5-5576-4576-a29c-e09ac3ed3408",
   "metadata": {},
   "outputs": [],
   "source": []
  }
 ],
 "metadata": {
  "kernelspec": {
   "display_name": "conv_ai_env",
   "language": "python",
   "name": "conv_ai_env"
  },
  "language_info": {
   "codemirror_mode": {
    "name": "ipython",
    "version": 3
   },
   "file_extension": ".py",
   "mimetype": "text/x-python",
   "name": "python",
   "nbconvert_exporter": "python",
   "pygments_lexer": "ipython3",
   "version": "3.12.5"
  }
 },
 "nbformat": 4,
 "nbformat_minor": 5
}
